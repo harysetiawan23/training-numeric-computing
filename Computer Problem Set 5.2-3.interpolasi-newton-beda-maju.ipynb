{
 "cells": [
  {
   "cell_type": "markdown",
   "metadata": {},
   "source": [
    "## Helper Function"
   ]
  },
  {
   "cell_type": "code",
   "execution_count": 111,
   "metadata": {},
   "outputs": [],
   "source": [
    "# Python3 Program to interpolate using\n",
    "\n",
    "# calculating u mentioned in the formula\n",
    "def u_cal(u, n):\n",
    "\n",
    "\ttemp = u;\n",
    "\tfor i in range(1, n):\n",
    "\t\ttemp = temp * (u - i);\n",
    "\treturn temp;\n",
    "\n",
    "# calculating factorial of given number n\n",
    "def fact(n):\n",
    "\tf = 1;\n",
    "\tfor i in range(2, n + 1):\n",
    "\t\tf *= i;\n",
    "\treturn f;"
   ]
  },
  {
   "cell_type": "markdown",
   "metadata": {},
   "source": [
    "## Predefined Polynomi"
   ]
  },
  {
   "cell_type": "code",
   "execution_count": 112,
   "metadata": {},
   "outputs": [],
   "source": [
    "import numpy as np\n",
    "import math\n",
    "\n",
    "\n",
    "n = 21\n",
    "x = np.linspace(0,math.pi/4,num=n)\n",
    "x = [round(xi,3) for xi in x]\n",
    "y = [[0 for i in range(n)]\n",
    "\t\tfor j in range(n)];\n",
    "\n",
    "for index,value in enumerate(x):\n",
    "    y[index][0] = round(math.tan(value),3)"
   ]
  },
  {
   "cell_type": "code",
   "execution_count": 113,
   "metadata": {},
   "outputs": [
    {
     "name": "stdout",
     "output_type": "stream",
     "text": [
      "0.0\t0.0\t0.039\t0.001\t-0.001\t0.0\t0.004\t-0.013\t0.03\t-0.059\t0.104\t-0.163\t0.208\t-0.134\t-0.349\t1.911\t-5.9\t14.704\t-32.004\t62.467\t-109.884\t171.701\t\n",
      "0.039\t0.039\t0.04\t0.0\t-0.001\t0.004\t-0.009\t0.017\t-0.029\t0.045\t-0.059\t0.045\t0.074\t-0.483\t1.562\t-3.989\t8.804\t-17.3\t30.463\t-47.417\t61.817\t\n",
      "0.079\t0.079\t0.04\t-0.001\t0.003\t-0.005\t0.008\t-0.012\t0.016\t-0.014\t-0.014\t0.119\t-0.409\t1.079\t-2.427\t4.815\t-8.496\t13.163\t-16.954\t14.4\t\n",
      "0.118\t0.119\t0.039\t0.002\t-0.002\t0.003\t-0.004\t0.004\t0.002\t-0.028\t0.105\t-0.29\t0.67\t-1.348\t2.388\t-3.681\t4.667\t-3.791\t-2.554\t\n",
      "0.157\t0.158\t0.041\t0.0\t0.001\t-0.001\t0.0\t0.006\t-0.026\t0.077\t-0.185\t0.38\t-0.678\t1.04\t-1.293\t0.986\t0.876\t-6.345\t\n",
      "0.196\t0.199\t0.041\t0.001\t0.0\t-0.001\t0.006\t-0.02\t0.051\t-0.108\t0.195\t-0.298\t0.362\t-0.253\t-0.307\t1.862\t-5.469\t\n",
      "0.236\t0.24\t0.042\t0.001\t-0.001\t0.005\t-0.014\t0.031\t-0.057\t0.087\t-0.103\t0.064\t0.109\t-0.56\t1.555\t-3.607\t\n",
      "0.275\t0.282\t0.043\t0.0\t0.004\t-0.009\t0.017\t-0.026\t0.03\t-0.016\t-0.039\t0.173\t-0.451\t0.995\t-2.052\t\n",
      "0.314\t0.325\t0.043\t0.004\t-0.005\t0.008\t-0.009\t0.004\t0.014\t-0.055\t0.134\t-0.278\t0.544\t-1.057\t\n",
      "0.353\t0.368\t0.047\t-0.001\t0.003\t-0.001\t-0.005\t0.018\t-0.041\t0.079\t-0.144\t0.266\t-0.513\t\n",
      "0.393\t0.415\t0.046\t0.002\t0.002\t-0.006\t0.013\t-0.023\t0.038\t-0.065\t0.122\t-0.247\t\n",
      "0.432\t0.461\t0.048\t0.004\t-0.004\t0.007\t-0.01\t0.015\t-0.027\t0.057\t-0.125\t\n",
      "0.471\t0.509\t0.052\t0.0\t0.003\t-0.003\t0.005\t-0.012\t0.03\t-0.068\t\n",
      "0.511\t0.561\t0.052\t0.003\t0.0\t0.002\t-0.007\t0.018\t-0.038\t\n",
      "0.55\t0.613\t0.055\t0.003\t0.002\t-0.005\t0.011\t-0.02\t\n",
      "0.589\t0.668\t0.058\t0.005\t-0.003\t0.006\t-0.009\t\n",
      "0.628\t0.726\t0.063\t0.002\t0.003\t-0.003\t\n",
      "0.668\t0.789\t0.065\t0.005\t0.0\t\n",
      "0.707\t0.854\t0.07\t0.005\t\n",
      "0.746\t0.924\t0.075\t\n",
      "0.785\t0.999\t\n"
     ]
    }
   ],
   "source": [
    "for i in range(1, n):\n",
    "    for j in range(n - i):\n",
    "        y[j][i] = round(y[j + 1][i - 1] - y[j][i - 1],3);\n",
    "\n",
    "# Displaying the forward difference table\n",
    "for i in range(n):\n",
    "    print(x[i], end = \"\\t\");\n",
    "    for j in range(n - i):\n",
    "        print(y[i][j], end = \"\\t\");\n",
    "    print(\"\");"
   ]
  },
  {
   "cell_type": "markdown",
   "metadata": {},
   "source": [
    "## Find Middle"
   ]
  },
  {
   "cell_type": "code",
   "execution_count": 114,
   "metadata": {},
   "outputs": [
    {
     "name": "stdout",
     "output_type": "stream",
     "text": [
      "x_mid at 0.785 is 0.419\n",
      "Formula = 0.0 + ( 10.077 * 0.039 )/ 1  + ( 91.467 * 0.001 )/ 2  + ( 738.776 * -0.001 )/ 6  + ( 5228.258 * 0.0 )/ 24  + ( 31771.722 * 0.004 )/ 120  + ( 161302.591 * -0.013 )/ 720  + ( 657618.254 * 0.03 )/ 5040  + ( 2023440.781 * -0.059 )/ 40320  + ( 4202530.853 * 0.104 )/ 362880  + ( 4525802.457 * -0.163 )/ 3628800  + ( 348138.651 * 0.208 )/ 39916800  + ( -321358.754 * -0.134 )/ 479001600  + ( 617997.605 * -0.349 )/ 6227020800  + ( -1806454.536 * 1.911 )/ 87178291200  + ( 7086860.104 * -5.9 )/ 1307674368000  + ( -34889157.437 * 14.704 )/ 20922789888000  + ( 206651163.278 * -32.004 )/ 355687428096000  + ( -1430661899.62 * 62.467 )/ 6402373705728000  + ( 11335244281.602 * -109.884 )/ 121645100408832000  + ( -101145256666.606 * 171.701 )/ 2432902008176640000 \n"
     ]
    }
   ],
   "source": [
    "x_mid = x[int(len(x)/2)];\n",
    "\n",
    "def newton_forward(x_search):\n",
    "\ty_mid = y[0][0];\n",
    "\tformula = \"{}\".format(y_mid)\n",
    "\tu = (x_search - x[0]) / (x[1] - x[0]);\n",
    "\n",
    "\tfor i in range(1,n):\n",
    "\t\ty_mid = round(y_mid,3) + round((u_cal(u, i) * y[0][i]) / fact(i),3);\n",
    "\t\tformula = formula + \" + ( {} * {} )/ {} {}\".format(\n",
    "\t\t\tround(u_cal(u, i),3),round(y[0][i],3),round(fact(i),3),\"+\" if n<i else \"\")\n",
    "\n",
    "\treturn y_mid,formula\n",
    "\n",
    "\n",
    "y_mid,formula = newton_forward(x_mid)\n",
    "print(\"x_mid at\", value, \"is\", round(y_mid,3));\n",
    "print(\"Formula = \"+formula)"
   ]
  },
  {
   "cell_type": "markdown",
   "metadata": {},
   "source": [
    "## Find Custom Falue"
   ]
  },
  {
   "cell_type": "code",
   "execution_count": 115,
   "metadata": {},
   "outputs": [
    {
     "name": "stdout",
     "output_type": "stream",
     "text": [
      "x_mid at 0.124 is 0.129\n",
      "Formula = 0.0 + ( 3.179 * 0.039 )/ 1  + ( 6.93 * 0.001 )/ 2  + ( 8.173 * -0.001 )/ 6  + ( 1.467 * 0.0 )/ 24  + ( -1.204 * 0.004 )/ 120  + ( 2.191 * -0.013 )/ 720  + ( -6.181 * 0.03 )/ 5040  + ( 23.614 * -0.059 )/ 40320  + ( -113.831 * 0.104 )/ 362880  + ( 662.554 * -0.163 )/ 3628800  + ( -4518.959 * 0.208 )/ 39916800  + ( 35340.579 * -0.134 )/ 479001600  + ( -311722.031 * -0.349 )/ 6227020800  + ( 3061270.199 * 1.911 )/ 87178291200  + ( -33124513.44 * -5.9 )/ 1307674368000  + ( 391548735.793 * 14.704 )/ 20922789888000  + ( -5019855587.089 * -32.004 )/ 355687428096000  + ( 69376978498.483 * 62.467 )/ 6402373705728000  + ( -1028202399285.203 * -109.884 )/ 121645100408832000  + ( 16266689239973.592 * 171.701 )/ 2432902008176640000 \n"
     ]
    }
   ],
   "source": [
    "x_custom = int(0)\n",
    "\n",
    "while not x_custom > 0:\n",
    "    x_custom = float(input(\"Please enter x_value (0 - {}) : \".format(math.pi/4)))\n",
    "\n",
    "## Calculate Custom Input\n",
    "y_custom,custom_formula = newton_forward(x_custom)\n",
    "print(\"x_mid at\", x_custom, \"is\", round(y_custom,3));\n",
    "print(\"Formula = \"+custom_formula)"
   ]
  },
  {
   "cell_type": "code",
   "execution_count": 116,
   "metadata": {},
   "outputs": [
    {
     "data": {
      "image/png": "[encoded data removed]",
      "text/plain": [
       "<Figure size 720x576 with 1 Axes>"
      ]
     },
     "metadata": {
      "needs_background": "light"
     },
     "output_type": "display_data"
    }
   ],
   "source": [
    "from matplotlib import pyplot as plt\n",
    "fig = plt.figure(figsize = (10,8))\n",
    "\n",
    "y_display = [y[index][0] for index,value in enumerate(y)]\n",
    "\n",
    "plt.plot(x, y_display)\n",
    "plt.scatter(x, y_display)\n",
    "plt.scatter(x_mid,y_mid)\n",
    "plt.annotate(\"Midpoint [{}.{}]\".format(x_mid,y_mid),(x_mid,y_mid,))\n",
    "plt.scatter(x_custom,y_custom)\n",
    "plt.annotate(\"Custom Point [{}.{}]\".format(x_custom,y_custom),(x_custom,y_custom))\n",
    "\n",
    "plt.title('Lagrange Polynomial')\n",
    "plt.grid()\n",
    "plt.xlabel('x')\n",
    "plt.ylabel('f(x)')\n",
    "plt.show()"
   ]
  }
 ],
 "metadata": {
  "interpreter": {
   "hash": "a92dafa0a9c7006ccf7b85e108a48b740b81a78e3339a24552bfb1eb050567a7"
  },
  "kernelspec": {
   "display_name": "Python 3.7.0 64-bit ('venv': venv)",
   "language": "python",
   "name": "python3"
  },
  "language_info": {
   "codemirror_mode": {
    "name": "ipython",
    "version": 3
   },
   "file_extension": ".py",
   "mimetype": "text/x-python",
   "name": "python",
   "nbconvert_exporter": "python",
   "pygments_lexer": "ipython3",
   "version": "3.7.0"
  },
  "orig_nbformat": 4
 },
 "nbformat": 4,
 "nbformat_minor": 2
}
