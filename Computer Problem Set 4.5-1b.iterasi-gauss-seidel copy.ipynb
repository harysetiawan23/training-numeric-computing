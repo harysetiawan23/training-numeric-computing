{
 "cells": [
  {
   "cell_type": "markdown",
   "metadata": {},
   "source": [
    "## Initial setup"
   ]
  },
  {
   "cell_type": "markdown",
   "metadata": {},
   "source": [
    "#### Define the polynom system\n",
    "\n",
    "```\n",
    "4x + 20y - 3z + 6w = -13\n",
    "3x - 4y + 20z + 8w = 36\n",
    "20x + 2y - 4z + 9w = 18\n",
    "```\n",
    "\n",
    "#### Arrange the polynom\n",
    "\n",
    "```\n",
    "20x + 2y - 4z = 18\n",
    "4x + 20y -3z = -13\n",
    "3x - 4y + 20z = 36\n",
    "```\n",
    "\n",
    "#### After arranging equations in diagonally dominant form, we form equations for `x`, `y`, & `z` like this:\n",
    "```\n",
    "x = (18-2y+4z)/20\n",
    "y = (-13-4x+3z)/20\n",
    "z = (36-3x+4y)/20\n",
    "```"
   ]
  },
  {
   "cell_type": "markdown",
   "metadata": {},
   "source": [
    "## Define the default Value"
   ]
  },
  {
   "cell_type": "code",
   "execution_count": 1,
   "metadata": {},
   "outputs": [],
   "source": [
    "# Initial setup\n",
    "x0 = int(input(\"Input the Default value for x0\"))\n",
    "y0 = int(input(\"Input the Default value for y0\"))\n",
    "z0 = int(input(\"Input the Default value for z0\"))"
   ]
  },
  {
   "cell_type": "markdown",
   "metadata": {},
   "source": [
    "## Define the polynom"
   ]
  },
  {
   "cell_type": "code",
   "execution_count": 2,
   "metadata": {},
   "outputs": [],
   "source": [
    "# Defining equations to be solved\n",
    "# in diagonally dominant form\n",
    "p1 = lambda x,y,z: (18-2*y+4*z)/20\n",
    "p2 = lambda x,y,z: (-13-4*x+3*z)/20\n",
    "p3 = lambda x,y,z: (36-3*x+4*y)/20"
   ]
  },
  {
   "cell_type": "markdown",
   "metadata": {},
   "source": [
    "## Define the Tolerable Error"
   ]
  },
  {
   "cell_type": "code",
   "execution_count": 3,
   "metadata": {},
   "outputs": [],
   "source": [
    "# Reading tolerable error\n",
    "e = float(0.0001)"
   ]
  },
  {
   "cell_type": "markdown",
   "metadata": {},
   "source": [
    "## Gauss Seidel Iteration"
   ]
  },
  {
   "cell_type": "code",
   "execution_count": 4,
   "metadata": {},
   "outputs": [
    {
     "name": "stdout",
     "output_type": "stream",
     "text": [
      "\tx\ty\tz\n",
      "\n",
      "1\t1.7000\t0.0600\t1.5570\n",
      "\n",
      "2\t1.2054\t-0.6575\t1.4877\n",
      "\n",
      "3\t1.2633\t-0.6795\t1.4746\n",
      "\n",
      "4\t1.2629\t-0.6814\t1.4743\n",
      "\n",
      "5\t1.2630\t-0.6815\t1.4743\n",
      "\n",
      "\n",
      "Solution: x=1.263, y=-0.681 and z = 1.474\n",
      "\n"
     ]
    }
   ],
   "source": [
    "# Gauss Seidel Iteration\n",
    "\n",
    "count = 1\n",
    "\n",
    "# Implementation of Gauss Seidel Iteration\n",
    "print('\\tx\\ty\\tz\\n')\n",
    "\n",
    "condition = True\n",
    "\n",
    "while condition:\n",
    "    x1 = p1(x0,y0,z0)\n",
    "    y1 = p2(x1,y0,z0)\n",
    "    z1 = p3(x1,y1,z0)\n",
    "\n",
    "    print('%d\\t%0.4f\\t%0.4f\\t%0.4f\\n' %(count, x1,y1,z1))\n",
    "    \n",
    "    e1 = abs(x0-x1);\n",
    "    e2 = abs(y0-y1);\n",
    "    e3 = abs(z0-z1);\n",
    "    \n",
    "    count += 1\n",
    "    x0 = x1\n",
    "    y0 = y1\n",
    "    z0 = z1\n",
    "    \n",
    "    condition = e1>e and e2>e and e3>e\n",
    "\n",
    "print('\\nSolution: x=%0.3f, y=%0.3f and z = %0.3f\\n'% (x1,y1,z1))"
   ]
  }
 ],
 "metadata": {
  "interpreter": {
   "hash": "a92dafa0a9c7006ccf7b85e108a48b740b81a78e3339a24552bfb1eb050567a7"
  },
  "kernelspec": {
   "display_name": "Python 3.7.0 64-bit ('venv': venv)",
   "language": "python",
   "name": "python3"
  },
  "language_info": {
   "codemirror_mode": {
    "name": "ipython",
    "version": 3
   },
   "file_extension": ".py",
   "mimetype": "text/x-python",
   "name": "python",
   "nbconvert_exporter": "python",
   "pygments_lexer": "ipython3",
   "version": "3.7.0"
  },
  "orig_nbformat": 4
 },
 "nbformat": 4,
 "nbformat_minor": 2
}
